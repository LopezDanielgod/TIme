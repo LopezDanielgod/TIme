{
 "cells": [
  {
   "cell_type": "code",
   "execution_count": 26,
   "metadata": {},
   "outputs": [],
   "source": [
    "class Two_d:\n",
    "    def __init__(self, x1, y1, x2, y2):\n",
    "        self.x1 = x1\n",
    "        self.y1 = y1\n",
    "        self.x2 = x2\n",
    "        self.y2 = y2\n",
    "\n",
    "    def calcula(self):\n",
    "        X = self.x1 - self.x2\n",
    "        Y = self.y1 - self.y2\n",
    "        return (X**2 + Y**2)**0.5\n",
    "\n"
   ]
  },
  {
   "cell_type": "code",
   "execution_count": 27,
   "metadata": {},
   "outputs": [
    {
     "name": "stdout",
     "output_type": "stream",
     "text": [
      "La distancia es: 6.082762530298219\n"
     ]
    }
   ],
   "source": [
    "punto = Two_d(3, 4, 9, 5)\n",
    "D = punto.calcula()\n",
    "print(f\"La distancia es: {D}\")\n"
   ]
  },
  {
   "cell_type": "code",
   "execution_count": 31,
   "metadata": {},
   "outputs": [],
   "source": [
    "class Two_d:\n",
    "    def __init__(self, x, y):\n",
    "        self.x = x\n",
    "        self.y = y\n",
    "\n",
    "    def calcula_Instancia(self, other):\n",
    "        return Math.sqrt((self.x - other.x) ** 2 * (self.y - other.y) ** 2)"
   ]
  },
  {
   "cell_type": "code",
   "execution_count": 30,
   "metadata": {},
   "outputs": [
    {
     "ename": "AttributeError",
     "evalue": "'Two_D' object has no attribute 'calcula_Instancia'",
     "output_type": "error",
     "traceback": [
      "\u001b[1;31m---------------------------------------------------------------------------\u001b[0m",
      "\u001b[1;31mAttributeError\u001b[0m                            Traceback (most recent call last)",
      "Cell \u001b[1;32mIn[30], line 3\u001b[0m\n\u001b[0;32m      1\u001b[0m punto1 \u001b[38;5;241m=\u001b[39m Two_D(\u001b[38;5;241m3\u001b[39m, \u001b[38;5;241m4\u001b[39m)\n\u001b[0;32m      2\u001b[0m punto2 \u001b[38;5;241m=\u001b[39m Two_D(\u001b[38;5;241m9\u001b[39m, \u001b[38;5;241m-\u001b[39m\u001b[38;5;241m5\u001b[39m)\n\u001b[1;32m----> 3\u001b[0m \u001b[38;5;28mprint\u001b[39m(\u001b[43mpunto\u001b[49m\u001b[38;5;241;43m.\u001b[39;49m\u001b[43mcalcula_Instancia\u001b[49m(punto2))\n",
      "\u001b[1;31mAttributeError\u001b[0m: 'Two_D' object has no attribute 'calcula_Instancia'"
     ]
    }
   ],
   "source": [
    "punto1 = Two_d(3, 4)\n",
    "punto2 = Two_d(9, -5)\n",
    "print(punto.calcula_Instancia(punto2))"
   ]
  }
 ],
 "metadata": {
  "kernelspec": {
   "display_name": "Python 3",
   "language": "python",
   "name": "python3"
  },
  "language_info": {
   "codemirror_mode": {
    "name": "ipython",
    "version": 3
   },
   "file_extension": ".py",
   "mimetype": "text/x-python",
   "name": "python",
   "nbconvert_exporter": "python",
   "pygments_lexer": "ipython3",
   "version": "3.11.9"
  }
 },
 "nbformat": 4,
 "nbformat_minor": 2
}
