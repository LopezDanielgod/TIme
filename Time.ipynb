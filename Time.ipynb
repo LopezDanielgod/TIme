{
 "cells": [
  {
   "cell_type": "code",
   "execution_count": 52,
   "metadata": {},
   "outputs": [],
   "source": [
    "class Time:\n",
    "    def __init__(self, hora, minutos, segundos):\n",
    "        self.hora = hora\n",
    "        self.minutos = minutos\n",
    "        self.segundos = segundos\n",
    "        \n",
    "    def __str__(self):\n",
    "        return f\"Son las: {self.hora}:{self.minutos}:{self.segundos}\"\n",
    "\n",
    "    def calcula_segundos(self):\n",
    "        return self.hora * 3600 + self.minutos * 60 + self.segundos "
   ]
  },
  {
   "cell_type": "code",
   "execution_count": 54,
   "metadata": {},
   "outputs": [
    {
     "name": "stdout",
     "output_type": "stream",
     "text": [
      "Son las: 2:10:3\n",
      "7200\n",
      "600\n",
      "3\n",
      "7803\n"
     ]
    }
   ],
   "source": [
    "time = Time(2, 10, 3)\n",
    "print(time)\n",
    "print(time.hora * 3600 )\n",
    "print(time.minutos * 60 )\n",
    "print(time.segundos)\n",
    "print(time.calcula_segundos ())"
   ]
  }
 ],
 "metadata": {
  "kernelspec": {
   "display_name": "Python 3",
   "language": "python",
   "name": "python3"
  },
  "language_info": {
   "codemirror_mode": {
    "name": "ipython",
    "version": 3
   },
   "file_extension": ".py",
   "mimetype": "text/x-python",
   "name": "python",
   "nbconvert_exporter": "python",
   "pygments_lexer": "ipython3",
   "version": "3.11.9"
  }
 },
 "nbformat": 4,
 "nbformat_minor": 2
}
