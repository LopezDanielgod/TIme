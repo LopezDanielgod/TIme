{
 "cells": [
  {
   "cell_type": "markdown",
   "metadata": {},
   "source": [
    "## Clase persona"
   ]
  },
  {
   "cell_type": "code",
   "execution_count": 23,
   "metadata": {},
   "outputs": [],
   "source": [
    "class Persona:\n",
    "    def __init__(self, nombre, apellido_paterno, apellido_materno):\n",
    "        self.nombre = nombre\n",
    "        self.apellido_paterno = apellido_paterno\n",
    "        self.apellido_materno = apellido_materno\n",
    "\n",
    "    def mostrar_nombre(self):\n",
    "        print(f\"Mi nombre es: {self.nombre}\")\n",
    "\n",
    "    def mostrar_datos_completos(self):\n",
    "        print(f\"Mi nombre es: {self.nombre} {self.apellido_paterno} {self.apellido_materno}\")"
   ]
  },
  {
   "cell_type": "code",
   "execution_count": 24,
   "metadata": {},
   "outputs": [
    {
     "name": "stdout",
     "output_type": "stream",
     "text": [
      "Mi nombre es: Kevin Ichiro Garquin\n",
      "Mi nombre es: Erick Martinez Escamilla\n"
     ]
    }
   ],
   "source": [
    "persona1 = Persona(\"Kevin\", \"Ichiro\", \"Garquin\")\n",
    "persona1.mostrar_datos_completos()\n",
    "persona2 = Persona(\"Erick\", \"Martinez\", \"Escamilla\")\n",
    "persona2.mostrar_datos_completos()"
   ]
  },
  {
   "cell_type": "code",
   "execution_count": 25,
   "metadata": {},
   "outputs": [],
   "source": [
    "class persona:\n",
    "    def __init__(self, nombre, apellido_paterno, apellido_materno):\n",
    "        self.nombre = nombre\n",
    "        self.apellido_paterno = apellido_paterno\n",
    "        self.apellido_materno = apellido_materno\n",
    "\n",
    "    def __str__(self):\n",
    "        return f\"Mi nombre es: {self.nombre} {self.apellido_paterno} {self.apellido_materno}\"\n"
   ]
  },
  {
   "cell_type": "code",
   "execution_count": 26,
   "metadata": {},
   "outputs": [
    {
     "name": "stdout",
     "output_type": "stream",
     "text": [
      "Mi nombre es: Daniel Lopez Gonzalez\n"
     ]
    }
   ],
   "source": [
    "persona3 = persona(\"Daniel\", \"Lopez\", \"Gonzalez\")\n",
    "print(persona3)"
   ]
  }
 ],
 "metadata": {
  "kernelspec": {
   "display_name": "Python 3",
   "language": "python",
   "name": "python3"
  },
  "language_info": {
   "codemirror_mode": {
    "name": "ipython",
    "version": 3
   },
   "file_extension": ".py",
   "mimetype": "text/x-python",
   "name": "python",
   "nbconvert_exporter": "python",
   "pygments_lexer": "ipython3",
   "version": "3.11.9"
  }
 },
 "nbformat": 4,
 "nbformat_minor": 2
}
